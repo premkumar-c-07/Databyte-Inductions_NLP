{
 "cells": [
  {
   "cell_type": "code",
   "execution_count": 1,
   "id": "0ba5bee7-3246-49c4-ba21-888e04bc32a7",
   "metadata": {},
   "outputs": [],
   "source": [
    "from sklearn.metrics import accuracy_score, classification_report\n",
    "from sklearn.feature_extraction.text import CountVectorizer\n",
    "from sklearn.model_selection import train_test_split\n",
    "from sklearn.linear_model import LogisticRegression\n",
    "from sklearn.naive_bayes import MultinomialNB\n",
    "from sklearn.metrics import confusion_matrix\n",
    "from sklearn.svm import SVC\n",
    "import pandas as pd\n",
    "import numpy as np\n",
    "# 0 for not spam and 1 spam"
   ]
  },
  {
   "cell_type": "code",
   "execution_count": 2,
   "id": "746c3a95-8710-44eb-bfef-1300226c118b",
   "metadata": {},
   "outputs": [],
   "source": [
    "df=pd.read_csv('emails2.csv')"
   ]
  },
  {
   "cell_type": "code",
   "execution_count": 3,
   "id": "43bef837-12bd-4001-b426-587310a541b3",
   "metadata": {},
   "outputs": [
    {
     "data": {
      "text/plain": [
       "Index([], dtype='object')"
      ]
     },
     "execution_count": 3,
     "metadata": {},
     "output_type": "execute_result"
    }
   ],
   "source": [
    "df.columns[df.isna().any()] #checking for missing values"
   ]
  },
  {
   "cell_type": "code",
   "execution_count": 4,
   "id": "a51e2a5d-8a91-47b4-a159-b5f44c7f647e",
   "metadata": {},
   "outputs": [
    {
     "data": {
      "text/html": [
       "<div>\n",
       "<style scoped>\n",
       "    .dataframe tbody tr th:only-of-type {\n",
       "        vertical-align: middle;\n",
       "    }\n",
       "\n",
       "    .dataframe tbody tr th {\n",
       "        vertical-align: top;\n",
       "    }\n",
       "\n",
       "    .dataframe thead th {\n",
       "        text-align: right;\n",
       "    }\n",
       "</style>\n",
       "<table border=\"1\" class=\"dataframe\">\n",
       "  <thead>\n",
       "    <tr style=\"text-align: right;\">\n",
       "      <th></th>\n",
       "      <th>text</th>\n",
       "    </tr>\n",
       "    <tr>\n",
       "      <th>spam</th>\n",
       "      <th></th>\n",
       "    </tr>\n",
       "  </thead>\n",
       "  <tbody>\n",
       "    <tr>\n",
       "      <th>0</th>\n",
       "      <td>4360</td>\n",
       "    </tr>\n",
       "    <tr>\n",
       "      <th>1</th>\n",
       "      <td>1368</td>\n",
       "    </tr>\n",
       "  </tbody>\n",
       "</table>\n",
       "</div>"
      ],
      "text/plain": [
       "      text\n",
       "spam      \n",
       "0     4360\n",
       "1     1368"
      ]
     },
     "execution_count": 4,
     "metadata": {},
     "output_type": "execute_result"
    }
   ],
   "source": [
    "df.groupby('spam').count() #imbalance dataset"
   ]
  },
  {
   "cell_type": "code",
   "execution_count": 5,
   "id": "0855b288-6f9a-4e7d-8579-b14e7658b9cb",
   "metadata": {},
   "outputs": [],
   "source": [
    "df0=df[df.spam==0] #tackling imbalance dataset\n",
    "df1=df[df.spam==1]\n",
    "df=pd.concat([df0[:1368],df1]) "
   ]
  },
  {
   "cell_type": "code",
   "execution_count": 6,
   "id": "3d8da28a-6b37-4152-b43a-4159aebbf8b3",
   "metadata": {},
   "outputs": [],
   "source": [
    "x=df.text\n",
    "y=df.spam"
   ]
  },
  {
   "cell_type": "code",
   "execution_count": 7,
   "id": "dd14f05a-b3fb-44c1-8bad-a93d6afe94fc",
   "metadata": {},
   "outputs": [],
   "source": [
    "X_train, X_test, y_train, y_test = train_test_split(x,y,test_size=0.2,random_state=10)"
   ]
  },
  {
   "cell_type": "code",
   "execution_count": 8,
   "id": "dbcf531c-22bb-44be-8275-66ca3023ee8c",
   "metadata": {},
   "outputs": [],
   "source": [
    "v = CountVectorizer()\n",
    "X_train = v.fit_transform(X_train)\n",
    "X_test = v.transform(X_test)"
   ]
  },
  {
   "cell_type": "code",
   "execution_count": 9,
   "id": "a6201ecb-d6c6-4dce-8093-e6ff1c008de9",
   "metadata": {},
   "outputs": [],
   "source": [
    "lrmodel = LogisticRegression()\n",
    "\n",
    "svmmodel = SVC()\n",
    "\n",
    "nbmodel = MultinomialNB()"
   ]
  },
  {
   "cell_type": "code",
   "execution_count": 10,
   "id": "c6a52801-4d55-46ce-bbab-52369e459b9d",
   "metadata": {},
   "outputs": [],
   "source": [
    "def evaluvate(model):\n",
    "    model.fit(X_train,y_train)\n",
    "    y_predicted=model.predict(X_test)\n",
    "    print(model.score(X_test,y_test))\n",
    "    cm = confusion_matrix(y_test, y_predicted)\n",
    "    print(cm)\n",
    "    print(classification_report(y_test, y_predicted))\n",
    "    \n",
    "    ownemail=['click this link and win cash']\n",
    "    testemail=v.transform(ownemail)\n",
    "    if model.predict(testemail)[0]:\n",
    "        print('click this link and win cash - Spam')\n",
    "    else:\n",
    "        print('click this link and win cash - Not Spam')\n",
    "    ownemail=['can you call me']\n",
    "    testemail=v.transform(ownemail)\n",
    "    if model.predict(testemail)[0]:\n",
    "        print('can you call me - Spam')\n",
    "    else:\n",
    "        print('can you call me - Not Spam')\n",
    "\n",
    "    "
   ]
  },
  {
   "cell_type": "code",
   "execution_count": 11,
   "id": "b6eca360-0029-40d6-8c92-2d136f2ea3bb",
   "metadata": {},
   "outputs": [
    {
     "name": "stdout",
     "output_type": "stream",
     "text": [
      "0.9854014598540146\n",
      "[[264   7]\n",
      " [  1 276]]\n",
      "              precision    recall  f1-score   support\n",
      "\n",
      "           0       1.00      0.97      0.99       271\n",
      "           1       0.98      1.00      0.99       277\n",
      "\n",
      "    accuracy                           0.99       548\n",
      "   macro avg       0.99      0.99      0.99       548\n",
      "weighted avg       0.99      0.99      0.99       548\n",
      "\n",
      "click this link and win cash - Spam\n",
      "can you call me - Not Spam\n"
     ]
    }
   ],
   "source": [
    "evaluvate(lrmodel)"
   ]
  },
  {
   "cell_type": "code",
   "execution_count": 12,
   "id": "ad314787-a7c3-4847-9350-e34a07511e9a",
   "metadata": {},
   "outputs": [
    {
     "name": "stdout",
     "output_type": "stream",
     "text": [
      "0.9343065693430657\n",
      "[[239  32]\n",
      " [  4 273]]\n",
      "              precision    recall  f1-score   support\n",
      "\n",
      "           0       0.98      0.88      0.93       271\n",
      "           1       0.90      0.99      0.94       277\n",
      "\n",
      "    accuracy                           0.93       548\n",
      "   macro avg       0.94      0.93      0.93       548\n",
      "weighted avg       0.94      0.93      0.93       548\n",
      "\n",
      "click this link and win cash - Spam\n",
      "can you call me - Spam\n"
     ]
    }
   ],
   "source": [
    "evaluvate(svmmodel)"
   ]
  },
  {
   "cell_type": "code",
   "execution_count": 13,
   "id": "359960ff-1f5f-4aff-a1c5-527ca0963800",
   "metadata": {},
   "outputs": [
    {
     "name": "stdout",
     "output_type": "stream",
     "text": [
      "0.9872262773722628\n",
      "[[266   5]\n",
      " [  2 275]]\n",
      "              precision    recall  f1-score   support\n",
      "\n",
      "           0       0.99      0.98      0.99       271\n",
      "           1       0.98      0.99      0.99       277\n",
      "\n",
      "    accuracy                           0.99       548\n",
      "   macro avg       0.99      0.99      0.99       548\n",
      "weighted avg       0.99      0.99      0.99       548\n",
      "\n",
      "click this link and win cash - Spam\n",
      "can you call me - Not Spam\n"
     ]
    }
   ],
   "source": [
    "evaluvate(nbmodel)"
   ]
  },
  {
   "cell_type": "code",
   "execution_count": 14,
   "id": "f80663e0-5855-4d04-bcb1-1be2df35b6d2",
   "metadata": {},
   "outputs": [],
   "source": [
    "from sklearn.model_selection import train_test_split\n",
    "from sklearn.feature_extraction.text import CountVectorizer\n",
    "from tensorflow.keras import Sequential, layers\n",
    "import tensorflow as tf"
   ]
  },
  {
   "cell_type": "code",
   "execution_count": 15,
   "id": "4cda6b3a-8ea1-4644-87cb-0611ef3818cd",
   "metadata": {},
   "outputs": [
    {
     "name": "stderr",
     "output_type": "stream",
     "text": [
      "C:\\Users\\premk\\anaconda3\\Lib\\site-packages\\keras\\src\\layers\\core\\dense.py:87: UserWarning: Do not pass an `input_shape`/`input_dim` argument to a layer. When using Sequential models, prefer using an `Input(shape)` object as the first layer in the model instead.\n",
      "  super().__init__(activity_regularizer=activity_regularizer, **kwargs)\n"
     ]
    }
   ],
   "source": [
    "input_shape = X_train.shape[1]\n",
    "model = Sequential([\n",
    "  layers.Dense(128, activation='relu', input_shape=(input_shape,)),\n",
    "  layers.Dense(64, activation='relu'),\n",
    "  layers.Dense(2, activation='softmax')\n",
    "])\n",
    "\n",
    "model.compile(optimizer='adam',\n",
    "              loss=tf.keras.losses.SparseCategoricalCrossentropy(), #not one hot code \n",
    "              metrics=['accuracy'])"
   ]
  },
  {
   "cell_type": "code",
   "execution_count": 16,
   "id": "b73c37ee-1187-4358-a67d-96362bdeab0b",
   "metadata": {},
   "outputs": [
    {
     "name": "stdout",
     "output_type": "stream",
     "text": [
      "Epoch 1/5\n",
      "\u001b[1m219/219\u001b[0m \u001b[32m━━━━━━━━━━━━━━━━━━━━\u001b[0m\u001b[37m\u001b[0m \u001b[1m6s\u001b[0m 23ms/step - accuracy: 0.9216 - loss: 0.2487\n",
      "Epoch 2/5\n",
      "\u001b[1m219/219\u001b[0m \u001b[32m━━━━━━━━━━━━━━━━━━━━\u001b[0m\u001b[37m\u001b[0m \u001b[1m5s\u001b[0m 24ms/step - accuracy: 0.9951 - loss: 0.0180\n",
      "Epoch 3/5\n",
      "\u001b[1m219/219\u001b[0m \u001b[32m━━━━━━━━━━━━━━━━━━━━\u001b[0m\u001b[37m\u001b[0m \u001b[1m5s\u001b[0m 24ms/step - accuracy: 1.0000 - loss: 0.0025\n",
      "Epoch 4/5\n",
      "\u001b[1m219/219\u001b[0m \u001b[32m━━━━━━━━━━━━━━━━━━━━\u001b[0m\u001b[37m\u001b[0m \u001b[1m5s\u001b[0m 24ms/step - accuracy: 1.0000 - loss: 8.4792e-04\n",
      "Epoch 5/5\n",
      "\u001b[1m219/219\u001b[0m \u001b[32m━━━━━━━━━━━━━━━━━━━━\u001b[0m\u001b[37m\u001b[0m \u001b[1m5s\u001b[0m 24ms/step - accuracy: 1.0000 - loss: 3.2913e-04\n"
     ]
    },
    {
     "data": {
      "text/plain": [
       "<keras.src.callbacks.history.History at 0x1aa970d1410>"
      ]
     },
     "execution_count": 16,
     "metadata": {},
     "output_type": "execute_result"
    }
   ],
   "source": [
    "model.fit(X_train.toarray(), y_train, epochs=5, batch_size=10) #changiing into numpy array"
   ]
  },
  {
   "cell_type": "code",
   "execution_count": 17,
   "id": "9809a5f3-8dc6-48cf-b8d0-b563d063b657",
   "metadata": {},
   "outputs": [
    {
     "name": "stdout",
     "output_type": "stream",
     "text": [
      "\u001b[1m1/1\u001b[0m \u001b[32m━━━━━━━━━━━━━━━━━━━━\u001b[0m\u001b[37m\u001b[0m \u001b[1m0s\u001b[0m 42ms/step\n",
      "Spam\n",
      "\u001b[1m1/1\u001b[0m \u001b[32m━━━━━━━━━━━━━━━━━━━━\u001b[0m\u001b[37m\u001b[0m \u001b[1m0s\u001b[0m 17ms/step\n",
      "Not Spam\n"
     ]
    }
   ],
   "source": [
    "ownemail = ['click this link and win cash']\n",
    "testemail = v.transform(ownemail)\n",
    "prediction = model.predict(testemail.toarray())[0]\n",
    "\n",
    "if prediction.argmax() == 1:  # Assuming 1 corresponds to spam\n",
    "    print('Spam')\n",
    "else:\n",
    "    print('Not Spam')\n",
    "\n",
    "ownemail = ['can you call me']\n",
    "testemail = v.transform(ownemail)\n",
    "prediction = model.predict(testemail.toarray())[0]\n",
    "if prediction.argmax() == 1:  # Assuming 1 corresponds to spam\n",
    "    print('Spam')\n",
    "else:\n",
    "    print('Not Spam')"
   ]
  },
  {
   "cell_type": "code",
   "execution_count": 18,
   "id": "74e69f56-42b8-4c7c-9432-43a0d8a881df",
   "metadata": {},
   "outputs": [
    {
     "name": "stdout",
     "output_type": "stream",
     "text": [
      "\u001b[1m18/18\u001b[0m \u001b[32m━━━━━━━━━━━━━━━━━━━━\u001b[0m\u001b[37m\u001b[0m \u001b[1m0s\u001b[0m 4ms/step\n"
     ]
    }
   ],
   "source": [
    "y_pred=model.predict(X_test.toarray())\n",
    "y_pred=np.argmax(y_pred,axis=1)"
   ]
  },
  {
   "cell_type": "code",
   "execution_count": 19,
   "id": "1954cade-dbf6-49bd-8169-17ca5e479ed1",
   "metadata": {},
   "outputs": [],
   "source": [
    "def accuracy(y_pred,y):\n",
    "    noofcorrect=0\n",
    "    for i,j in zip(y_pred,y):\n",
    "        if i==j:\n",
    "            noofcorrect+=1\n",
    "    return noofcorrect/len(y)\n",
    "    "
   ]
  },
  {
   "cell_type": "code",
   "execution_count": 20,
   "id": "e4a82354-963b-4424-95a6-a6c8f1129ce6",
   "metadata": {},
   "outputs": [
    {
     "data": {
      "text/plain": [
       "0.9908759124087592"
      ]
     },
     "execution_count": 20,
     "metadata": {},
     "output_type": "execute_result"
    }
   ],
   "source": [
    "accuracy(y_pred,y_test)"
   ]
  },
  {
   "cell_type": "code",
   "execution_count": 21,
   "id": "ae352b54-744b-4d8e-a47b-ef76b68d3f17",
   "metadata": {},
   "outputs": [],
   "source": [
    "#Conclusion - Neural network performs the best followed by naive bayes and LR"
   ]
  }
 ],
 "metadata": {
  "kernelspec": {
   "display_name": "Python 3 (ipykernel)",
   "language": "python",
   "name": "python3"
  },
  "language_info": {
   "codemirror_mode": {
    "name": "ipython",
    "version": 3
   },
   "file_extension": ".py",
   "mimetype": "text/x-python",
   "name": "python",
   "nbconvert_exporter": "python",
   "pygments_lexer": "ipython3",
   "version": "3.11.7"
  }
 },
 "nbformat": 4,
 "nbformat_minor": 5
}
